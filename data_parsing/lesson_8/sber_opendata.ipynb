{
 "cells": [
  {
   "cell_type": "code",
   "execution_count": 204,
   "metadata": {},
   "outputs": [],
   "source": [
    "import ipywidgets as widgets\n",
    "import pandas as pd\n",
    "import matplotlib.pyplot as plt\n",
    "import ipywidgets as widgets\n",
    "from ipywidgets import interact"
   ]
  },
  {
   "cell_type": "code",
   "execution_count": 205,
   "metadata": {},
   "outputs": [],
   "source": [
    "%matplotlib inline\n",
    "%config InlineBackend.figure_format = 'svg'"
   ]
  },
  {
   "cell_type": "code",
   "execution_count": 206,
   "metadata": {},
   "outputs": [
    {
     "data": {
      "text/html": [
       "<div>\n",
       "<style scoped>\n",
       "    .dataframe tbody tr th:only-of-type {\n",
       "        vertical-align: middle;\n",
       "    }\n",
       "\n",
       "    .dataframe tbody tr th {\n",
       "        vertical-align: top;\n",
       "    }\n",
       "\n",
       "    .dataframe thead th {\n",
       "        text-align: right;\n",
       "    }\n",
       "</style>\n",
       "<table border=\"1\" class=\"dataframe\">\n",
       "  <thead>\n",
       "    <tr style=\"text-align: right;\">\n",
       "      <th></th>\n",
       "      <th>name</th>\n",
       "      <th>region</th>\n",
       "      <th>date</th>\n",
       "      <th>value</th>\n",
       "      <th>vdate</th>\n",
       "    </tr>\n",
       "  </thead>\n",
       "  <tbody>\n",
       "    <tr>\n",
       "      <td>0</td>\n",
       "      <td>Количество заявок на потребительские кредиты</td>\n",
       "      <td>Россия</td>\n",
       "      <td>2013-01-15</td>\n",
       "      <td>571147</td>\n",
       "      <td>2013-01-15</td>\n",
       "    </tr>\n",
       "    <tr>\n",
       "      <td>1</td>\n",
       "      <td>Количество заявок на потребительские кредиты</td>\n",
       "      <td>Россия</td>\n",
       "      <td>2013-02-15</td>\n",
       "      <td>504508</td>\n",
       "      <td>2013-02-15</td>\n",
       "    </tr>\n",
       "    <tr>\n",
       "      <td>2</td>\n",
       "      <td>Количество заявок на потребительские кредиты</td>\n",
       "      <td>Россия</td>\n",
       "      <td>2013-03-15</td>\n",
       "      <td>628803</td>\n",
       "      <td>2013-03-15</td>\n",
       "    </tr>\n",
       "  </tbody>\n",
       "</table>\n",
       "</div>"
      ],
      "text/plain": [
       "                                           name  region        date   value  \\\n",
       "0  Количество заявок на потребительские кредиты  Россия  2013-01-15  571147   \n",
       "1  Количество заявок на потребительские кредиты  Россия  2013-02-15  504508   \n",
       "2  Количество заявок на потребительские кредиты  Россия  2013-03-15  628803   \n",
       "\n",
       "       vdate  \n",
       "0 2013-01-15  \n",
       "1 2013-02-15  \n",
       "2 2013-03-15  "
      ]
     },
     "execution_count": 206,
     "metadata": {},
     "output_type": "execute_result"
    }
   ],
   "source": [
    "# получение открытых данных из csv\n",
    "df = pd.read_csv(\"opendata.csv\", sep=',', encoding='cp1251')\n",
    "# преобразуем в datetime значения столбца 'date'\n",
    "df['vdate'] = pd.to_datetime(df['date'])\n",
    "df.head(3)"
   ]
  },
  {
   "cell_type": "code",
   "execution_count": 207,
   "metadata": {},
   "outputs": [],
   "source": [
    "# Получить список регионов\n",
    "regions = list(df['region'].unique())\n",
    "# Получить название показателей\n",
    "ivalues = list(df['name'].unique()) \n",
    "# Получить начальную дату из opendata\n",
    "sdate = df['vdate'].min()\n",
    "# Получить конечную дату из opendata\n",
    "edate = df['vdate'].max()"
   ]
  },
  {
   "cell_type": "code",
   "execution_count": 209,
   "metadata": {},
   "outputs": [
    {
     "data": {
      "application/vnd.jupyter.widget-view+json": {
       "model_id": "6d8435eb8c0047619b328c265238466c",
       "version_major": 2,
       "version_minor": 0
      },
      "text/plain": [
       "interactive(children=(Dropdown(description='Region', options=('Россия', 'Алтайский край', 'Амурская область', …"
      ]
     },
     "metadata": {},
     "output_type": "display_data"
    }
   ],
   "source": [
    "@interact\n",
    "def scatter_plot(Region=regions, Indicator=ivalues, \n",
    "                 start_date=widgets.DatePicker(value=sdate),\n",
    "                 end_date=widgets.DatePicker(value=edate)):\n",
    "    \n",
    "    filtered_df = df[(df['region']==Region) & \n",
    "                     (df['name']==Indicator) & \n",
    "                     (df['vdate']>=pd.Timestamp(start_date)) & \n",
    "                     (df['vdate']<=pd.Timestamp(end_date))]\n",
    "    plt.figure(figsize = (11, 6))\n",
    "    plt.title('Показатель: \"%s\" \\n Регион: \"%s\"' %(Indicator, Region))\n",
    "    plt.xlabel('Период времени')\n",
    "    plt.ylabel('Значение (руб.)')\n",
    "    plt.xticks(rotation=90)\n",
    "    plt.plot(filtered_df.date, filtered_df.value)\n",
    "    plt.show()"
   ]
  },
  {
   "cell_type": "code",
   "execution_count": null,
   "metadata": {},
   "outputs": [],
   "source": []
  }
 ],
 "metadata": {
  "kernelspec": {
   "display_name": "Python 3",
   "language": "python",
   "name": "python3"
  },
  "language_info": {
   "codemirror_mode": {
    "name": "ipython",
    "version": 3
   },
   "file_extension": ".py",
   "mimetype": "text/x-python",
   "name": "python",
   "nbconvert_exporter": "python",
   "pygments_lexer": "ipython3",
   "version": "3.7.4"
  }
 },
 "nbformat": 4,
 "nbformat_minor": 2
}
